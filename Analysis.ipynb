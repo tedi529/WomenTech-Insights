{
 "cells": [
  {
   "cell_type": "markdown",
   "metadata": {},
   "source": [
    "## WomenTech Insights"
   ]
  },
  {
   "cell_type": "code",
   "execution_count": 1,
   "metadata": {},
   "outputs": [],
   "source": [
    "# Import Dependencies\n",
    "import pandas as pd\n",
    "import numpy as np\n",
    "import os\n",
    "\n",
    "from selenium import webdriver\n",
    "from selenium.webdriver.chrome.options import Options  \n",
    "from selenium.webdriver.common.keys import Keys\n",
    "import time\n",
    "\n",
    "from bs4 import BeautifulSoup"
   ]
  },
  {
   "cell_type": "code",
   "execution_count": 6,
   "metadata": {},
   "outputs": [],
   "source": [
    "# URL of Event and connection\n",
    "url = \"https://app.hopin.to/events/womentech-global-conference-2020/reception\"\n",
    "\n",
    "chrome_options = Options()  \n",
    "driver = webdriver.Chrome(executable_path=os.path.abspath(\"chromedriver\"), options=chrome_options) \n",
    "driver.get(url)\n",
    "time.sleep(5)\n",
    "\n",
    "# Create BeautifulSoup object\n",
    "html = driver.page_source\n",
    "soup = BeautifulSoup(html,'lxml')\n",
    "\n",
    "# Build presentation titles content list\n",
    "content_list = []\n",
    "schedule = soup.find_all(\"div\", class_=\"text -semi-bold mt-8\")\n",
    "for item in schedule:\n",
    "    content = item.text\n",
    "    content_list.append(content)\n",
    "    \n",
    "# Build presenter titles list\n",
    "titles_list = []\n",
    "titles = soup.find_all(\"p\", class_=\"text -light mt-4\")    \n",
    "for element in titles:\n",
    "    role = element.text.strip()\n",
    "    titles_list.append(role)"
   ]
  },
  {
   "cell_type": "code",
   "execution_count": 7,
   "metadata": {},
   "outputs": [],
   "source": [
    "# Delete company sessions and expos\n",
    "for item in list(content_list):\n",
    "    if \"Session\" in item:\n",
    "        content_list.remove(item)\n",
    "    elif \"Expo\" in item:\n",
    "        content_list.remove(item)"
   ]
  },
  {
   "cell_type": "code",
   "execution_count": 8,
   "metadata": {},
   "outputs": [
    {
     "name": "stdout",
     "output_type": "stream",
     "text": [
      "['Conference Start - Anna Radulovski - UTC+2 (EMEA & APAC)', 'Divya Hegde: Interweaving Design, Tech & Social Impact.', 'Filipa Castro: Data Science for Social Good', 'Katherine Mimnaugh: Opportunities to Support Mental Health with Virtual Reality Nature Videos', 'Emerald de Leeuw: Privacy and Data ethics', 'Avanti Sharma: How a virus is changing our perception of technology', 'Jemima Abu: Defining A Career Path in Technology', 'Saskia Listle: How the Digitalization changes our understanding of leadership', 'Sofia Lyateva: The Bitter-Sweet Symphony of Culture & Engagement during COVID-19', 'Lara Martini: TRUST BASED MARKETING: Redefining your brand in a new reality', 'Aleksandra Swierzynska: My journey towards customer centricity', 'Neha Misra: Enabling Financial Literacy', 'Perrine Farque: 9 Secrets To Become a Female Leader in Tech', 'Lafifa Jamal: Role of Robotics and Artificial Intelligence to fight against the COVID-19 Pandemic', 'Diana Stefanova: What’s the Future of Work?', 'Oana C: Who should be a teacher?', 'Inna Grynova: Managing Generation Z: What we all need to change in order to lead young professionals to success', 'Daria Vodopianova: Become the Go-to Expert in Your Field – The Why, What and How of Scaling Your Thought Leadership', 'Nima Abu Wardeh: Staying Seen.Heard.Empowered. Why should you care & what does it mean anyway', 'Ameni Channoufi: Secure T identities in IOT', 'Chiara Chiesa: STEM and space to inspire girls to pursue a career in the space industry', 'Alenna Dawn Magpantay: Building an impact driven society', 'Agnieszka Swiatowa: Trust is the new black. Distant and diverse team engagement.', 'Tsvetelina Lazarova: Women and Leadership: Barriers and Biasеs', 'Priska Burkard: Culture Purpose Match - why you should search for a company that matches your purpose', 'Estelle Roux-Stevens: The True Power of Mentoring', 'Raneem Rashid: Kickstart your career in blockchain', 'Tríona Byrne: Creating a Better World, Together.', \"Lavinia Osbourne: The Power of Stories in Blockchain's Quest for Diversity\", 'Eva Cortés: How to build resilient teams in fast-growing environments ', 'Bianca Cefalo: Disrupted in Space: behind the scenes of Digital Connectedness', 'Alina Kornienko: Building a universal contactless BAAS', 'Hien Nguyen: Evolutionary Leadership', 'Yaliwe Soko: Purpose vs evolution : How to thrive', 'Anna Derinova-Hartmann: Why gender does not matter for your career, but you do!', 'Snigdha Gupta: Prediction is not easy- how do we make it possible? Future with AI', 'Adela Mehic-Dzanic: From 0 to 100: The Power of Networking', 'Delphine Fleury: From fog to clarity: how unveiling your 10 year vision can light up your mornings', \"Johanna Baare: Remote work is here to stay - are your ready for its effects on your company's social life?\", 'Maryleen Ndubuaku: Edge-enhanced smart analytics in IoT-based distributed systems', 'Corina Dumanovschi: Product Sailor Caught in a Storm', 'Carole Viaene: Why we need to start thinking about a \"Blue Career\"', 'Naina Runnoo: You got to choose you.', 'Lubomila Jordanova: Climate change will be solved only through collaboration', 'Networking break', 'Micaela Romanini: Diversity and gender inclusion in the Games Industry. This is not a game!', 'Sahiqa Bennett: Reopening Countries....Safely', 'Jana Habasková: Artificial Intelligence augmented Customer Engagement 360°', 'Lina Zubytė: It’s not easy being a woman in tech: how to help yourself & others make it better', 'Monika Katkutė: Curiosity is the new productivity', 'Emma El-Karout: ‘The End of Work as We Know It … Infinite Possibilities and a New World of Work’', 'Beata Wandachowicz-Krason: Supply Chain disruptions and Business Resilience in view of Covid-19', 'Prof.Tanzila Saba: Artificial Intelligence & Data Science for Social Good: Current & Future Applications', \"Kinga Incze: Media RegTech - connecting all media, regulation and tech professionals, providing more space for women: we're launching Mediaspace\", 'Dhaunae De Vir: Breaking into the videogames industry', 'Sana Afouaiz: How tech will help women to conquer times of crisis', 'Bogdan Bocse: Whatever your question is, math already has a map to the answer', \"Megan Murphy: Emerging trends from today's rapidly changing world, and how they impact the products we build for tomorrow\", 'Ekaterina Petrova: Startup Accelerators amid a crisis', 'Kathryn Colas: Menopause in the Workplace - employees matter', 'Aneta Albrechtová: Help Visually Impaired People Gain More Independence Using Computer Vision', 'Lisa Trapletti: My journey through burnout and how I used it as an opportunity to grow', 'Furkan Karayel: How to Build Your Leadership Profile as a Woman in Tech', 'Anne Jaakke: How to create more (online) fans and beat the competition?', 'Vassilia Orfanou: Media and A.I. in support of the New Diplomacy', 'Carolina Aguilar: Creating and leading high performance teams in Medtech', 'Ilona Beliatskaya: Harnessing AI for creating responsible travels in the post COVID-19 times', \"Maja Schreiner: Help, I'm the only Woman on my Team\", 'Doina Popa: Path to Becoming an Executive for Women in Tech: 5 Tips', 'Vera L. B. Grablechner: The New Role of Innovation', 'Thurlow Joanne: Team Management as learned from the back of a dog sled', 'Ansoo Gupta: Technology of the future should be in harmony with the planet', 'Suchitra Hegde: Find your feet in new territories!', 'Elodie Lepaludier: Learning about technology through play.', 'Inka Müller-Seubert: From employee to cyborg - The use of microchip implants in the employment context', 'Anna Agu: How crypto projects work with the fiat world in which no one expects them and adapt to regulation', 'Lieke Ypma: Female Mobility, New Ideas for Everyone', 'Neha Kumar: How to define culture and build teams', 'Conference Start - Eastern Time/Americas', 'Welcome to the WomenTech Global Conference 2020', 'Laurel Farrer: The Socioeconomic Impacts of Remote Work', 'Kanika Tolver: Be a Brand Not an Employee in Tech', 'Susan Walsh: The Dangers of Dirty Data....and how to fix it', 'Indra Books: Toss Out the Annual Performance Appraisals', 'Rana el Kaliouby: Bringing Emotional Intelligence to Technology', 'Tavonia Evans: Guap Coin, a platform built to support the black ecosystem (black owned businesses and institutions)', 'Melissa Carson: Limiting Beliefs...Why We Listen to the Voices in our Head', 'Jumoke Dada: Pathways to Entrepreneurship for Technical Women', 'Mila DeChant: Changing The Narrative of \"Future of Work\" to \"The NOW of Work\"', 'Stephanie LeBlanc-Godfrey: Parenting Backwards', 'Stephanie Caulley: Self Care When Working Alone', 'Ty Heath: How to Become a Thought Leader on LinkedIn', 'Arti Venkatesh: Unlock the value of Microsoft Cloud', 'Nicole Scheffler: How to be a Successful Super Woman in Technology', 'Alexandria Butler, Siri Chilazi, Diane Kenyon, Lori Mackenzie, Anna Radulovski: Challenges & Opportunities for Women in Tech and Business Times of Covid-19', 'Efe Ukala: Why financial inclusion is key to economic recovery post COVID-19', 'Emilie Sydney-Smith: Creating the post-COVID future you want to live in', 'Tineke Bakker - van der Veen: The Future of Transport', 'Lisa Zeeveld: Working Remotely, Effectively and Productively', 'Moran Fine: Working remotely and digital nomading', 'Helen Altshuler: Leaving others a little better', 'Salma Elbarmawi: Pivoting Your Market Strategy to Survive a Crisis', 'Rosario B Casas: #AugmentedHumans The new stage of human evolution. Its challenges ', 'Milu Franz: Build a Culture of Belonging Within Your Organization', 'Rachana Kumar: Leading Through Success', 'Kathryn Rose: Stand Out for Success : Get Known Get Hired', 'Linda Patiño: Online violence against women and digital transformation ', 'Martha-Isabel Estupiñán: The DNA of the Digital Tribes', 'Edwige Robinson: As triple minority leader in Tech - Navigating the Technology Realm', 'Siri Chilazi: De-Biasing Recruitment in Tech', 'Nikkie Kent: The Future of Work is Female; Empowering Mothers at work', 'Networking break', 'Conference Start - Pacific Time/Americas\\t', 'Farah Saad: Intention Setting', 'Maryam Daryabegi: Upskill, Reskill and Innovate', 'Annie Jean-Baptiste: Building for Everyone: Designing Inclusive Products', 'Ekaterina Stambolieva: Tech Saves the World: a Space Tech case-study on fighting climate change', 'Monique Tallon: Leading Gracefully: How to Own Your Strengths for More Impact', 'Farah Ereiqat, Ronit Avni, Aceil Halaby, Amalee Nsour, Nourhan Shabaan: Startup Tech for Impact', 'Dominique West: Creating your cloud security strategy with a DevSecOps Mindset', ' Jee Abbey Lee: Algorithm for Global Peacekeeping', \"Tarsha Bowman: My Inner House Wasn't Equipped Yet!\", 'Lauren Smith: Navigating Leadership Success Early in the Journey: A Fireside Chat with Lauren Smith', 'Tara King: Inclusive Leadership for Managers, Tech Leads, and Open-Source Maintainers', 'Alexandria Butler: Build An Authentic Career Brand', 'Michelle Del Rosario: Power and Influence: Developing Leadership Presence within You and Your Team', 'Kavya Krishna: Social Entrepreneurs and COVID19', 'Annette White-Klososky: Making Culture Visible: Utilizing Technology Advancements to Engage the NextGen Workforce', 'Pooja Malpani: Innovation alongside running legacy business', 'Veena Ramaswamy: The Role & Power of Personal Development in Career Growth', 'Ann Rosenberg: How to Prepare Your Business and How the World will Change After COVID-19', 'KC Lathrop: The Importance of Staying Creative During a Crisis', \"Aashni Shah: Hype Yourself, You're Worth It\", 'Lori Mackenzie: The Power of our Collective: Reimagining Inclusion', 'Rocio Aldeco-Perez: Why are there so few of us in Tech? Experiences from Latin America', 'Achia Nila: Empowering Women through Technology', 'Cecilia Chapiro: Corporate Women Using Technology to Accelerate Youth Entrepreneurship in Times of COVID', 'Parneet Pal: Transform Stress to Resilience: The Power of Social Connection', \"D'Lovely Gibson: Building and Sustaining High Performing Teams\", 'Michelle King: Fix workplaces, not women.', 'Dilruba Malik: Own Your Dream', 'Nicole Ramirez: How COVID-19 will affect digital marketing moving forward', 'Sonia Ardila: Cloning Tatiana', 'Vartika Manasvi: Science of remote recruiting intelligence to build a borderless team', 'Vinutha Narayan: Effective Career Management', 'Melonie de Guzman: Breaking through your limiting beliefs', 'Natoshia Anderson: Lead Like a Woman In STEM', 'Networking Break', 'Jasmine Orange: Designing For The Ten Percent: How To Unbias Your Designs', 'Samah Gad: Delivery on your team goals during uncertain and stressful times', 'Gissela Moya: Life Without Internet Access, and Why We Must Fix It In The Age of COVID-19', 'Rachel Potvin: The Interconnected Developer Community and the Evolution of Software Productivity', 'May Wang: Secure IoT: Life or Death', 'Joan Bajorek: Voice AI: The Future is By Everyone and For Everyone', 'Stacy Kirk: Diversity of Perspective drives Quality and Innovation', 'Sher Downing: The EdTech Paradigm, How a Virus created opportunities', 'Mani Anand: Power of Virtualization in Technology', 'Lucy Lin: Innovation, AI & Blockchain Will Fuel Marketing Success', 'Chitra Madhwacharyula: A Consultative approach to Problem Solving and Customer Success', 'Alana Karen: Well-Being Ups & Downs: 18+ Years Growing Up in Tech', 'Dr.Danielle Jenkins: Strategies for Emerging Tech Leaders', 'Megan Byrd-Sanicki: Open Source Programs Offices (OSPOs)', 'Vijaya Kaza: Going Beyond Myths and Clichés', 'Raluca Apostol: Humans before Employees - Could AI change mindsets and make people happier?', 'Beatris Mendez-Gandica: Following your passion!', 'Morvareed Salehpour: Emerging Tech and the Law', 'Yada Pruksachatkun: Machine Learning + Healthcare: Opportunities and challenges', 'Mireille Toulekima: Planting the seeds of STEM in women in underprivileged communities', 'Yun Freund: How Cloud Technologies enables Work From Home movement', 'Jossie Haines: Engineering with Empathy', 'Wendy Gonzalez: Changing the World Through AI and Training Data', 'Adrienne Tacke: There is NO Developer Uniform!', 'Jessica Hartley: Empathic Marketing in the Age of a Pandemic', 'Megan Beatty: The Product Pivot: Fearlessly Navigating Your Way into Product Management', 'Ashie Bhandiwad: The New Face of Education', \"Jessi Beyer: How To Safely and Successfully Support Someone Who's Struggling With Their Mental Health\", 'Faye Sahai: Innovation, Inclusion, Impact', 'Hannah Glass: Developing technology or building solutions?', 'Liesl Yearsley: Frontier Tech', 'Shelli Brunswick: How to Leverage Innovation and Entrepreneurship in the Vibrant Space Economy', 'Marion Balandra: How to build stronger relationships in business as a woman in tech', 'Sunita P Shenoy: Industrial transformation in the time of COVID-19', 'Archana Newaskar: Leading DevOps Transformation', 'Muazma Zahid: Cloud Data Engineering', 'Astrid Bonk: Morning Stretching & Meditation', 'Tamanna Haque: Influencing AI in Business (and in You)', 'Rachel Lawson: Come for the Software, Stay for the Community. What makes the Drupal Community so special?', 'Elena Melashchenko: Bring the harmony with Domain-driven design (DDD)', \"Denise Vorraber: 7 Mistakes you shouldn't do on stage\", 'Rihab Yakoubi: What I should learn in 2020 as first programming language?', 'Özlem Stoian: Continuous self improvement continues through parenthood', 'Basant Shenouda: Online Personal Branding: Establishing Yourself as a Thought Leader', 'Vandana Verma Sehgal: Implementing Zero Trust in an organisation to be uncertainty Ready', 'Tazyeen Ansarullah: Business Intelligence and Data Analytics', 'Gourav Sharma: Confidence Comes from Knowing More', 'Mevish Aslam: Low Budget - HIgh Impact Marketing', 'Rinku Gupta: Journey from Quality Assurance to Business Analyst', 'Ayse Bilge Gunduz: Introduction to Scientific Programming in Python', 'Maryna Cherniavska: Winter Is Coming: A Kotlin Web Application Without Spring', 'Imane Rahmoun: How to break the communication barrier between sales and technical teams', 'Neha Modi: Hype around new programming languages and reality checks', \"Alison McNamara: Java development: It's easy when you know how\", 'Qurat Ul Ain: Building a Coaching Culture for Women Empowerment', 'Rashi Jain: How to build a SPA in React', 'Laveena Ramchandani: My journey of testing a data science model', 'Agata Fraszczak: Fast iteration and quick ideas validation in the Machine Learning world', 'Lisa Mo Wagner: WTFacilitation - Remote Edition', 'Victoria Mallinkrodt & Marie-Eve Menger: Stop procrastinating about your finances - start your financial planing today!', 'Nicole Tschierske: Feeling stressed at work? Strategies to prevent burn-out and stay engaged.', 'Supritha Seetharam: Journey from CLI to Model: Developer insights on Automation story of a Datacenter', 'Nancy Chauhan: Monitoring Applications with Prometheus and Grafana', 'Iliada Evangelia Kothra: Coronavirus and working from home: A new challenge for ambitious women in order to prove their productivity ', 'Miriana Itani: Coroutines - Kotlin Android', 'Fernanda Alvarez: Key success aspects towards Entrepreneurship', 'Sailaja Vadlamudi: Bounty Hunting in Physical Era – Bug Hunters in Digital Era', 'Delia Mensitieri: We start with Me: living your values to create a brave new world', 'Shea Harty: Overcoming the Pain of Selling', 'Shafiqa Iqbal: Getting started with Amazon Web Technologies', 'Jasna Pejovic: Soft skills that Tech People need to succeed in the digital era', 'Peculiar C. Umeh: Kotlin programming language: A big fix for many Java issues', 'Noopur Gupta: Unleashing the Java Tooling in Eclipse IDE - Tips & Tricks!', 'Salwa Abuzeed: Self-Motivation', 'Nour EL HASSANE: Your First Steps Toward Data Science', 'Ime Linus Brown: Striking Balance as a Career Wife, Mum, Coach and a Software Developer', 'Chukwuwa Uchenna: Kotlin:The Fun language', 'Stuti Sharma: Starting your journey with Databases Management in MySql', 'Olha Trostianchuk: Not by code standards alone: why do tech specialists should be trained to use soft-skills. How to educate a team.', 'Nikola Valesova: Player Churn Prediction Using Machine Learning', 'Maria Totova: Drupal & Mentoring: Build Your Skill Set to Advance Your Career', 'Olga Sholderer: R for beginners: learn how to automate your reporting!', 'Sumana Saha: Best practices of Pair programming and Code review', 'Sayantika Banik: Django Unchained', 'Margaryta Ievtukh: Seasonality in the education projects', 'Evelien Roos: Building trust with online teambuilding', 'Narimane Hennouni: OOP with Java for Beginners', 'Dr Marsia Bealby: Professional Development as a lifestyle', 'Mercedes Rodríguez: Building Actions for Google Assistant from Scratch', 'Amadikwa Joy N, Chanchal Bansal, Rasika Kedia: Intro to Python', 'Himabindu V: Spotlight on Digital Forensics', 'Katrina Julia: How to Create Online Course in a Week Like a Boss', 'Laila Deeb: What is PHP and Should you learn it in 2020? ', 'Brittany Sherell: The Fulfillment Factor: Self-Care for Sustainability', 'YURY NIÑO: Resilience Engineering: Why Break your Software with Chaos Engineering?', 'Lera Mingova: PR for tech specialists & tech companies', 'Suzanne Dergacheva: Super-Charge Your Digital Skillset with Drupal', 'Sonny Mohanty, Women in Crypto', 'Vidhi Sharma: Intro to React Hooks', 'Heather Maga: What Is NoSQL?', 'Jayeeta Putatunda: Transfer Learning With BERT: Building a Text Classification Model', 'Kristina Azarenko: Navigating the technical world of SEO as a woman', 'Merel van Empel: The Drupal CMS: what it does and how to use it', 'Madeleine Schönemann: Five quick wins to make your website more accessible, inclusive and easy to use', 'Victoria Gerukh: How the behaviour of your users changing right now and how we can be on the wave together with them?', 'Tina Ridley: Testing your Software with OWASP ZAP', 'May Wang: E2E: from Engineer to Entrepreneur', 'Nicole Trick Steinbach: How to Build Your Brave', 'Amy Wu: Consumer & Enterprise Trends Through Covid', 'Nikita Agarwal: Emergence of NLP for Finance', 'Rachel Sheppard: Female Founder Pitch Bootcamp: Get Feedback on your Startup Ideas', 'Irina Truong: How to create and publish a Python package', 'Qianyun \"Aria\" Chang: How to break into machine learning technologies as a young professional', 'Bernardo de la Vega: Social media is broken, Fiesta aims to fix it ', 'Lisa DeAngelis: The Power of Community', 'Simran Yadav: Getting started with Data Science', 'Barbara Bickham: Blockchain 101: Practical Uses of a Blockchain', 'Ying Zuo: How To Become a Frontend Developer', 'Shivani Mehta: Getting out of your comfort zone', \"Maria Paula Duque: Defining a new corporate language based on women's differential leadership skills\", 'Alicia Chen: What do you mean ‘we need more time’?? (Setting and Meeting Software Development Deadlines)', \"Judi Glova: Unlock Your Brain's Potential by Breaking These 3 Habits\", 'Parveen Khan: Testing Tour: My journey of Pairing and Learning', 'Lusen Mendel: Negotiation and Self-Advocacy: How to Ask for More', 'Ana Sanchotene: Automation with Cypress', 'Parul Gupta: The (Un)Fair Machine Learning', 'Stephanie A. Higa: Why CSS Still Matters', 'Tonima Khan: Selling with Authenticity & Expanding Your Network', 'Isa Valdez: Discover Your Professional Value Statement in 3 Simple Steps', 'Mariah Lichtenstern: Entrepreneurship - Advocating for Tech Funding Equity', 'Ana Muñoz: Colombian Makers; The Power of Communities', 'Tanya Vlahovic: The Wonderful World of APIs', 'Blessing Adogame: Putting the Personal in Personal Branding', 'Bushra Anjum: The Evolution of Data Science and Advanced Analytics since Feb 2020', 'Renee Dineen: Authentic Inaction™: Undoing the Doing in Our Do-Crazy Culture', 'Maryna Burushkina: Effective Marketing Planning With The Power of AI and Machine Learning', 'Dilruba Malik: Quality is not about finding defects', 'Divya Naveenan: The Wireless Systems - Soft Skills', 'Bianca Curutan: Kotlin vs. Swift, Not So Different After All', 'Chinwe Esimai: Pillars of Life & Career Architecture', 'Prashanti Pathak: Attuning to the Change', 'Colleen Wtorek: Beating Imposter Syndrome in an Ever-Changing Tech Landscape', 'Zarin T. Pulam: Seamless opportunities in RF industry', 'Shefali Garg: Software-defined Virtual Networks in Cloud', 'Asya Shklyar: High-Performance Computing and Research at a Liberal Arts school', 'Rashi Desai: Careers of Tomorrow: Data, Decisions and Business', 'Tomomi Tsuchio: What is Beauty?', 'Welcome to Day 3 #WomenTech Career & Hiring Day', 'OLX Group - Floriane Gramlich, Director Product and Managing Director at Naspers GmbH / OLX', 'Checkout.com Jeevs Mahil, Senior People Acquisition Specialist']\n"
     ]
    }
   ],
   "source": [
    "print(content_list)"
   ]
  },
  {
   "cell_type": "code",
   "execution_count": 9,
   "metadata": {},
   "outputs": [
    {
     "name": "stdout",
     "output_type": "stream",
     "text": [
      "['Founder @ ceo', 'Founder at Yunus & Youth', 'Software engineer at Gradle', 'Travel Futurist & Researcher in Travel Technology', 'Research Associate Professor at Universidad Nacional Autónoma de México', 'Founder at Fantistics', 'Research Assistant', 'Software Engineer at Square & CEO at Elixir Labs', 'Senior Test Engineer at Square Marble Technology', 'Chief Operating Officer at Pinstorm Technologies', 'Delivery & Operations Director', 'Lead programmer', 'Career Counsellor at Self-Employed', 'CEO at Smart STEM. LLC.', 'Senior Consultant, Risk Analytics at Deloitte', 'Director of Product', 'Data Scientist at DataSentics a.s.', 'Software Engineer at RatePAY GmbH', 'Sr Manager', 'Founder, Managing Director at Women in Digital', 'Managing Director & Founder, CEO at InnoTrue UG', 'Business Development Manager at Sharing Tribe', 'Project Officer at British Embassy Tirana', 'An Android developer', 'Freelance chatbot & voice developer', 'CEO/ Founder at SpaceconneX', 'Creator & CEO at FIT Life Creation', 'Agile Coach at Xebia', 'Head of Product Inclusion at Google', 'Founder at The Classification Guru', 'Analyst / Professor / Software Developer / Business Owner', 'CEO and founder at PR Doctor', 'Student (Master of Science in Computer Science) at University of Massachusetts Amherst, USA', 'Founder & CEO at Agility for All, S.L.', 'Student', 'Software Engineer at Oluaka Institute of Technology Owerri IMO State', 'Director Supplier Risk Management at Philips', 'Attorney-at-law at CMS Germany', 'Senior Developer Advocate at MongoDB', 'Visionary Entrepreneur, CEO at Searchie, Mediscreen', 'Rocket Scientist | Space Systems Product Manager | STEM Consultant | at Airbus Defense and Space UK', 'Director of Customer Centricity at OLX Group', 'Director of Product Management at Hotjar', 'South Africa Ecosystems Lead at cLabs working on Celo', 'Backend engineer at Parse.ly', 'Award-winning Tech Leader, prev. Managing Director Benelux & Nordics at Boeing', 'Software QA Manager at Palo Alto Networks', 'Team Leader at Moonfare', 'Senior Concept Designer/ Technology Lead at The LEGO group', 'CEO & Founder at WomenTech Network', 'Founder & CEO at PlanA.Earth GmbH', 'Chief Science Officer at Wisdom Labs', 'Author of \"Girl Decoded\" | Co-Founder & CEO at Affectiva | YGL at WEF | Fortune 40 under 40', 'President + Interim CEO at Samasource', 'Global Head, Inclusion Programs for Women of Color at Google', 'Global Lead B2B Institute at LinkedIn', 'CEO at ExO Works', 'Director / Admin at Un Cuarto Tech and Makers Colombia', 'Product owner', 'Co-creator Female Founder Initiative & Director Global Marketing at Founder Institute', 'Director, Search Platforms at Google', 'Chief Security Officer & Head of Engineering and Data Science for Trust & Safety at AirBnB', 'Community Liaison at Drupal Association', 'IT Helpdesk Specialist at Wefox GmbH', 'Chief Security Officer & Head of Engineering and Data Science for Trust & Safety at AirBnB', 'Research Fellow at Women and Public Policy Program, Harvard Kennedy School', 'Co-Founder of Rogers Women in Tech, Agile Project Manager, Mentor, Public Speaker', 'Business Analyst at Ryanair Labs', 'Career Coach and Sales Assoicate in LinkedIn', 'PhD Candidate', 'Data Analyst at BRAINLY', 'Global Career Coaching & Change Management Consultant at Trick Steinbach LLC', 'Student, incoming intern at Ericsson at University of Texas at Dallas', 'Forbes Female Founder to Watch | Privacy and Data ethics Specialist at Logitech', 'Senior Data Scientist at DataSentics', 'Sr. Distinguished Engineer, Founder & CTO of Zingbox acquired by Palo Alto Networks at Palo Alto Networks', 'Software Development Manager at Amazon', 'CEO & Head of Conversational Research & Strategy at Women in Voice/VERSA', 'Senior Product Manager at OLX Group', 'CEO at QualityWorks Consulting Group, LLC', 'Lead Public API Architect at eBay', 'Senior Data Specialist at Global Hitss - Claro Colombia', 'Machine Learning Researcher', 'Senior Vice President at Equinix', 'Software Engineer at NorthBay Solutions', 'Personal trainer/owner/author at 1Stop-fitness', 'Founder Nuevo Foundation, Program Manager at Microsoft', 'Principal Software Engineer at Workday', 'Founder & CEO at Growth Channel', 'Senior Consultant at Deloitte', 'Technical Interview and Negotiation Speaker, Candidate Empowerment at DangoorMendel', 'Founder S.H.E.Strategy at Finding Nima Limited', 'Founder & CEO at StackRaft', 'Platform Engineering Director at Tile', 'UX Designer at Ernst & Young', 'Project Scientist at Environmental Science International', 'V.P of Global Customer Success & Services at Joveo', \"Founder at Dalia's Book\", 'CEO at Apphienz', 'Computer science student at Higher National School of Computer Science (ESI-Algiers)', 'Manager, Research & Operations, Open Source Program Office at Google', 'Chief Product Officer at Nestor', 'CSE Under-Grad || Programmer || Database Management and Analysis Enthusiast', 'CEO at Integrity Management & Consulting Group', 'Founder & CEO at StemChef', 'Corporate Communications & Employer Brand Expert at Devexperts', 'Developer at September Multimedia', 'Founder & Director', 'Tech Attorney/Managing Partner at Salehpour Legal Consulting', 'Software Engineer at Grofers', 'Vice President of Strategy at Instrument', 'Speaker, Author, and Mental Health Advocate at Jessi Beyer International, LLC', 'Front End Developer at Telesoftas', 'Senior Data Scientist at Jaguar Land Rover', 'Product Manager at Microsoft/ Azure Networking', 'Solution Architect at Red Hat', 'Consultant Software Engineer at Systems Limited', 'Software Engineer at Cisco', 'Award winning cyber security expert', 'Industrial IoT Technology Director at Intel Corporation', 'Senior Software Engineer at OLX Group', 'Managing Director at Empower Amsterdam', 'Founder/CEO at StarMars Tech', 'IT Leadership and Management', 'CEO at uTrigg', 'Senior Software Engineering Manager at Microsoft', 'Pre teen Technology Specialist, Workshop4Me a.s.b.l at Workshop4Me a.s.bl.', 'Software Developer', 'Senior Product Manager at Finiata GmbH', 'Senior Analyst (Department of Open Nuclear Network) at One Earth Future', 'Director of GenerationS corporate accelerator at Russian Venture Company', 'Computer Vision and AI Researcher at Abyssal SA, Data Science for Social Good Portugal, Rotaract Portugal', 'Software Engineer at Think Future Technologies', 'Senior Associate at King & Wood Mallesons', 'Managing Partner at DeepVISS', 'Coach at Dr. Nicole Tschierske', 'CRO at Mamava', 'Innovation Consulting and Startups', 'Motivation and Communication Coach', 'Co-Founder & CEO at VR Americas LLC', 'Co-founder at Society of Women Coders', 'Business Consultant/ Digital Storyteller/ Founder of #dontacceptit campaign/Writer at www.living-postcards.com', 'Doctoral Researcher in Virtual Reality and Robotics at University of Oulu, Finland', 'Public Speaker ?English Lecturer / Co-organizer at Women Techmakers (WTM) and Google Developer Groups (GDG)', 'Advisory SE at IBM | Co-lead of Eclipse Java Development Tools | Member of ACM Future of Computing Academy at IBM', 'Founder & CEO at The Integrated Penguin', 'Sr Director, Customer Engagement, EMEA at Salesforce; the Data and Marketing Association UK', 'Senior Project Manager at Department of Treasury', 'Founder/ Principal at Innovation Bazar', 'CEO at DigitalBee', 'Editorial identity mentor, content strategist and podcast host', 'Designer & Engineer / User Centered Innovation / Mobility Geek', 'Professor at Department of Robotics and Mechatronics Engineering, University of Dhaka, Bangladesh', 'Founder and CEO at One Circle', 'Digital Innovation and Business Consultant', 'Founder at Tech Women Network', 'Founder/CEO; Executive Coach/Consultant at Crim Dell Consulting', 'Software developer at MARITIME ACADEMY OF NIGERIA', 'Co-founder at The Thought Leadership Academy', 'Business Developer at Paradox Interactive', 'Global Head of IT at Siemens Energy', 'Culture Scientist & Founder at Chief of Hearts - A Culture Science Company', 'Data Analyst at Brown Girl Magazine, Founder of Beyoutifully Empower', 'Software Developer at Ken Saro Wiwa innovation hub', 'Consultant for Digital Innovation Sandbox Program at Asian Development Bank', 'PKI and IT security Consultant at Thales', 'Senior Product Designer at Falcon.io', 'Frontend Developer at BadgeList', 'Site Reliability Engineer at ADL', 'eCommerce & Technical SEO Consultant', 'VP of Engineering at Etsy', 'IT HR Head EMENA at Nestle', 'Engineering Leader and Co-Founder at Cisco and Diva Tech Talk Podcast', 'Data Scientist at Indellient US Inc.', 'Career Development Strategist and Mentor at Eva Connections', 'Founder at ImpactHer', 'Senior Cloud Security Consultant at Ernst and Young (EY)', 'Managing Director at TechFace', 'Co-founder of Lex Law Office, co-organizer of CryptoFin Conference, public speaker at Lex Law Office', 'Award-Winning CEO & Inclusive Leader Advisor - Founder at Diversein.com', 'Blockchain Consultant at Aqar Chain', 'Founder/CEO at wiseHer', 'Software Engineer at Mile Two LLC', 'COO, co-founder at Quppy', 'Strategy Transformation and Business Design Expert', 'Head of Charter Tech Business at FlixMobility Tech GmbH', 'Vice President, Mobile Engineering Services at Comcast NBC Universal', 'Business Analyst at DataSentics', 'Executive Director at Tribu Evolución', 'Co-founder, Stanford VMware Women’s Leadership Innovation Lab; Lead Strategist, DE&I at Stanford GSB', 'Head of CSP Segment at MAVOCO AG', 'Corporate Developer & Career Advisor at ESADE Business School', 'Full Stack Engineer, Developer Outreach Manager at Pantheon', 'Software engineering student', 'Head of Analytics & Data Science Practice at Wavemaker (a WPP Co.)', 'Consultant, Speaker, Expert on Digitalization as a Facilitator at SLKC', 'Founder & CEO at SimplyHormones', 'CEO & Co-Founder of INBRAIN Neuroelectronics - developing the next generation of neuro-electronic therapies', 'CEO/Founder at Ms. Mirage LLC', 'Associate Lecturer at University of Derby', 'Founder / Educator at Teachers Lead Tech', 'Business Development, Diversity, Event Director at VIGAMUS Foundation, Women in Games Italia, VLG Publishing,', 'Freelance Software Engineer', 'Founder/CEO, LUDCI & Headline Diplomat at Luxembourg’s Diplomatic & Communications Institute', 'Managing Director, Chief Anti-Bribery Officer at Citigroup, Inc.', 'Consultant at ThoughtWorks', 'Chief of Staff to the CIO at IBM', 'Coach + Speaker at Brittany Sherell Consulting', 'Online Lecturer, Higher Education specialist at UoPeople', 'Android Team Lead', 'Security Solutions Architect - India Software Labs at IBM', 'Backend Engineer at Continual Engine', 'Software Engineer/ Product Owner at The Synergsit', 'Chief Customer Experience at Avianca Holding', 'Aspen Tech Policy Fellow at DiverseCity Ventures / CINESHARES', 'Founder/CMO at Forestlyn', 'RF Systems Engineer at Amazon Lab 126', 'CEO & EdTech Strategist at Downing EdTech Consulting', 'Software/Data Engineer at MediaMath', 'Drupal Developer at trio-interactive it services gmbh', 'Student', 'Research Professor/Associate Chair at Prince Sultan University', 'Managing Director - Project Services, Charles Schwab', 'VP of Engineering at GitHub', 'Co-Founder at Cusp Impact', 'Fullstack Software Developer at tretton37', 'Leadership Coach and Consultant at Dragonfly Coaching LLC', 'Head of Engineering at CoProcure', 'Senior Software Engineer', 'Graduate Student at University of Illinois at Chicago', 'Vice President of Global Site Strategy at VMware', 'Data Scientist & Founder at Guap Coin', 'Director Delivery Management at Avanade', 'COO at BELAY', 'Principal Software Engineer (Technical Director) at Zynga', 'Senior Software Engineer at Box', 'Fractional CTO and Business Personal Trainer at Colleen Wtorek', 'Software Engineer at Postmates', 'Managing Director at MT Energy Resources', 'Senior Program Manager, Speaker and Freedom Fighter at Twitter', 'Co-founder at Evolving Web', 'CEO at Zelus PR & Marketing', 'Senior Sales Engineer at Checkout.com', 'Data Analytics Masters student at Loyola University Chicago', 'Managing Director at Vinaj Ventures- Telosity.io', 'Senior Account Executive, Large Enterprise at Slack', 'Associate Software Engineer & Graduate Student', 'Data Analytics Manager at Doximity', 'Director of HPC at Pomona College', 'Lead Instructor at Flatiron School', 'Senior Talent Partner at Talentful', 'Remote Work Expert, Forbes Contributor at Distribute Consulting', 'Software Developer student\\tat Rustamji Institute of Technology', 'Student at Kalinga Institute of Industrial Technology', 'Diversity Consultant at www.inspired-human.com', 'Co-Founder & CEO at The Fin Lit Project', 'Head of Support at Revolut', 'International PR, Space Technology Transfer Commercialization advisor', 'Senior Director, Strategic Relations at Salesforce', \"Women's Leadership Expert at Highest Path Global\", 'Nicole Ramirez, Digital Marketing | Strategist | Consultant | Content Creator | TEDx Speaker at NR Digital Consulting', 'Global Head, Strategic Initiatives at Google', 'Tech Equity Advocate at Greenlining Institute', 'Chief Operating Officer and Executive Leader of the Center for Innovation and Education at Space Foundation', 'Founding Partner at Future Point of View', 'CEO at Nina Space', 'Co-founder of Cusp Impact', 'RF /Wireless Systems Engineer at Amazon Lab126', 'Student/Product Solutions Intern at University of Washington', 'Founder & CEO of Localized', 'Intuitive Leadership Expert & High-Performance Coach at Pinnacle Coaching & Consulting', 'Founder/CTO at Trailyn Ventures, LLC', 'BI Consultant / Mobility Lead / Scrum Master at Master Works', 'Engineering Leader at Google', 'Co-founder and COO of Bloomer Tech', 'Innovation Hub Manager, Food Programme', 'Women in Blockchain Talks Host & Founder at Women in Blockchain Talks', 'Pitch Trainer at Self-Employed', 'Quality Assurance Engineer at Trinca', 'Advocate for fixing workplaces, not women, Director of Inclusion at Netflix', 'Senior Vice President for UN Partnerships at SAP at SAP', 'Head of Media Engineering at Bloomberg', 'Founder sprinters, Marketing Mentor at #500 startups at sprinters', 'Subeditora of Technology at EL TIEMPO', 'REGIONAL DIRECTOR at LATOKEN', 'Product Manager - Data Products at OLX Group', 'Security & Data Privacy Owner at SAP', 'Fernanda Alvarez, CEO at International Talent Forum', 'Software Engineer', 'CEO & Mindfulness Consultant at Be Kalm Mindfulness Consulting Co.', 'Operations Manager - New Moon Operating Unit at Northrop Grumman Corporation', 'Software Engineer at Microsoft', 'Communications & Public Relations, Space Systems', 'Founder and CEO at Fiesta APP', 'CEO at a·kin', 'Operations Manager - New Moon Operating Unit at Northrop Grumman Corporation', 'Partner at Lightspeed Venture Partners', 'Senior Software Engineer at Visa Inc', 'Yoga Teacher & Coach / Member Experience Lead at the female factor', 'Yoga Teacher & Coach / Member Experience Lead at the female factor', 'TedX Speaker, Founder, Leadership & Team Performance Coach at RMD Coaching & Consulting']\n"
     ]
    }
   ],
   "source": [
    "print(titles_list)"
   ]
  },
  {
   "cell_type": "code",
   "execution_count": 10,
   "metadata": {},
   "outputs": [
    {
     "name": "stdout",
     "output_type": "stream",
     "text": [
      "There were 298 panels during the conference excluding career and expo panels.\n",
      "There were 301 presenters at the conference.\n"
     ]
    }
   ],
   "source": [
    "print(f\"There were {len(content_list)} panels during the conference excluding career and expo panels.\")\n",
    "print(f\"There were {len(titles_list)} presenters at the conference.\")"
   ]
  },
  {
   "cell_type": "code",
   "execution_count": 30,
   "metadata": {},
   "outputs": [
    {
     "name": "stdout",
     "output_type": "stream",
     "text": [
      "[('Tech', 18), ('Power', 11), ('Data', 9), ('Technology', 9), ('new', 9), ('Career', 8), ('COVID-19', 8), ('Building', 8), ('Women', 8), ('Learning', 8), ('AI', 7), ('Business', 7), ('Social', 6), ('Science', 6), ('Culture', 6), ('Future', 6), ('Leadership', 6), ('build', 6), ('tech', 6), ('journey', 5)]\n"
     ]
    }
   ],
   "source": [
    "# Find most frequent words in presentation titles\n",
    "from nltk.corpus import stopwords\n",
    "from nltk.tokenize import sent_tokenize, word_tokenize, punkt\n",
    "from collections import Counter\n",
    "import json\n",
    "\n",
    "# Get rid of stopwords\n",
    "drop_chars = [\"a\", \"i\", \"me\", \"my\", \"myself\", \"we\", \"our\", \"ours\", \"ourselves\", \"you\", \"you're\", \"you've\", \"you'll\", \"you'd\", \n",
    "              \"your\", \"yours\", \"yourself\", \"yourselves\", \"he\", \"him\", \"his\", \"himself\", \"she\", \"she's\", \"her\", \"hers\", \n",
    "              \"herself\", \"it\", \"it's\", \"its\", \"itself\", \"they\", \"them\", \"their\", \"theirs\", \"themselves\", \"what\", \"which\", \n",
    "              \"who\", \"whom\", \"this\", \"that\", \"that'll\", \"these\", \"those\", \"am\", \"is\", \"are\", \"was\", \"were\", \"be\", \"been\", \n",
    "              \"being\", \"have\", \"has\", \"had\", \"having\", \"do\", \"does\", \"did\", \"doing\", \"a\", \"an\", \"the\", \"and\", \"but\", \"if\", \n",
    "              \"or\", \"because\", \"as\", \"until\", \"while\", \"of\", \"at\", \"by\", \"for\", \"with\", \"about\", \"against\", \"between\", \"into\", \n",
    "              \"through\", \"during\", \"before\", \"after\", \"above\", \"below\", \"to\", \"from\", \"up\", \"down\", \"in\", \"out\", \"on\", \"off\", \n",
    "              \"over\", \"under\", \"again\", \"further\", \"then\", \"once\", \"here\", \"there\", \"when\", \"where\", \"why\", \"how\", \"all\", \n",
    "              \"any\", \"both\", \"each\", \"few\", \"more\", \"most\", \"other\", \"some\", \"such\", \"no\", \"nor\", \"not\", \"only\", \"own\", \n",
    "              \"same\", \"so\", \"than\", \"too\", \"very\", \"s\", \"t\", \"can\", \"will\", \"just\", \"don\", \"don't\", \"should\", \"should've\", \n",
    "              \"now\", \"d\", \"ll\", \"m\", \"o\", \"re\", \"ve\", \"y\", \"ain\", \"aren\", \"aren't\", \"couldn\", \"couldn't\", \"didn\", \"didn't\", \n",
    "              \"doesn\", \"doesn't\", \"hadn\", \"hadn't\", \"hasn\", \"hasn't\", \"haven\", \"haven't\", \"isn\", \"isn't\", \"ma\", \"mightn\", \n",
    "              \"mightn't\", \"mustn\", \"mustn't\", \"needn\", \"needn't\", \"shan\", \"shan't\", \"shouldn\", \"shouldn't\", \"wasn\", \"wasn't\", \n",
    "              \"weren\", \"weren't\", \"won\", \"won't\", \"the\", \"how\", \"wouldn\", \"wouldn't\", \"-\", \":\", \"&\", \",\", \"!\", \"'('\", \"(')'\",\n",
    "              \"/\", \"|\", \"@\"]\n",
    "\n",
    "content_string = ' '.join(content_list)\n",
    "content_split = content_string.split()\n",
    "\n",
    "content_result = []\n",
    "for word in content_split:\n",
    "    if word.casefold() not in drop_chars:\n",
    "        content_result.append(word)\n",
    "\n",
    "counter_content = Counter(content_result)\n",
    "most_freq_content = counter_content.most_common(20)\n",
    "print(\"Most Common Words in Presenter Topics and Their Counts\")\n",
    "print(\"-------------------------------------\")\n",
    "\n",
    "print(most_freq_content)"
   ]
  },
  {
   "cell_type": "code",
   "execution_count": 33,
   "metadata": {},
   "outputs": [
    {
     "name": "stdout",
     "output_type": "stream",
     "text": [
      "Most Common Words in Presenter Titles and Their Counts\n",
      "-------------------------------------\n",
      "[('CEO', 36), ('Founder', 34), ('Software', 33), ('Engineer', 29), ('Senior', 27), ('Director', 24), ('Data', 18), ('Manager', 16), ('Consultant', 16), ('Developer', 14)]\n"
     ]
    }
   ],
   "source": [
    "# Find most frequent titles of presenters\n",
    "title_string = ' '.join(titles_list)\n",
    "title_split = title_string.split()\n",
    "\n",
    "title_result = []\n",
    "for word in title_split:\n",
    "    if word.casefold() not in drop_chars:\n",
    "        title_result.append(word)\n",
    "\n",
    "counter_titles = Counter(title_result)\n",
    "most_freq_titles = counter_titles.most_common(10)\n",
    "print(\"Most Common Words in Presenter Titles and Their Counts\")\n",
    "print(\"-------------------------------------\")\n",
    "\n",
    "print(most_freq_titles)"
   ]
  },
  {
   "cell_type": "code",
   "execution_count": null,
   "metadata": {},
   "outputs": [],
   "source": []
  }
 ],
 "metadata": {
  "kernelspec": {
   "display_name": "Python 3",
   "language": "python",
   "name": "python3"
  },
  "language_info": {
   "codemirror_mode": {
    "name": "ipython",
    "version": 3
   },
   "file_extension": ".py",
   "mimetype": "text/x-python",
   "name": "python",
   "nbconvert_exporter": "python",
   "pygments_lexer": "ipython3",
   "version": "3.6.9"
  }
 },
 "nbformat": 4,
 "nbformat_minor": 2
}
